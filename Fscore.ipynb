{
 "cells": [
  {
   "cell_type": "code",
   "execution_count": 1,
   "id": "bb19547b",
   "metadata": {},
   "outputs": [],
   "source": [
    "import pandas as pd\n",
    "from tqdm import tqdm\n",
    "from sklearn import preprocessing\n",
    "import numpy as np\n",
    "\n",
    "min_max_scaler = preprocessing.MinMaxScaler()\n",
    "\n",
    "from collections import Counter\n"
   ]
  },
  {
   "cell_type": "code",
   "execution_count": 2,
   "id": "b5bb3186",
   "metadata": {},
   "outputs": [],
   "source": [
    "def compare_and_score(sol, pred):\n",
    "    numerator = len(list((Counter(sol) & Counter(pred)).elements()))\n",
    "    recall = numerator / len(sol)\n",
    "    return (recall,numerator,len(sol)-numerator)\n"
   ]
  },
  {
   "cell_type": "code",
   "execution_count": 3,
   "id": "4c98e56e",
   "metadata": {},
   "outputs": [],
   "source": [
    "file_name = \"mapping_nbest.txt\"\n",
    "utt_list = []\n",
    "utt_dict = {}\n",
    "with open(file_name, 'r', encoding='utf-8',  errors='ignore') as f:\n",
    "    for line in f:\n",
    "        word = line.split(\"\\n\")[0].split(\",\")\n",
    "        utt_list.append(word[0])\n",
    "        utt_dict[word[0]] = word[2]"
   ]
  },
  {
   "cell_type": "code",
   "execution_count": 10,
   "id": "0e4419d6",
   "metadata": {
    "scrolled": true
   },
   "outputs": [
    {
     "name": "stdout",
     "output_type": "stream",
     "text": [
      "0.8777442361216355\n",
      "0.8804318488529015\n"
     ]
    }
   ],
   "source": [
    "recalls = []\n",
    "j = 0\n",
    "ptrue_positive = 0\n",
    "pfalse_negative = 0\n",
    "for i in range(500):\n",
    "    tf = pd.read_csv(\"ground_truth_csv/\"+str(i)+\".csv\",sep=\";\")\n",
    "    tf[\"tuple\"] = tf[\"lemma\"]+\";\"+tf[\"morphology\"]\n",
    "    gt_list = tf[\"tuple\"].values.tolist()\n",
    "    flag_ = 0\n",
    "    pred_list = []\n",
    "    count = 0\n",
    "    for k in range(10):\n",
    "        count += 1\n",
    "        if j+k >= 4732:\n",
    "            break\n",
    "        utt = utt_list[j+k]\n",
    "        utt_grp = utt_dict[utt]\n",
    "        if k == 0:\n",
    "            pre_utt_grp = utt_grp\n",
    "        if pre_utt_grp != utt_grp:\n",
    "            j = j + count - 1\n",
    "            flag_ = 1\n",
    "            break\n",
    "        pf = pd.read_csv(\"nbest_csv/\"+str(j+k)+\".csv\",sep=\",\")\n",
    "        pf[\"tuple\"] = pf[\"lemma\"]+\";\"+pf[\"morph\"]\n",
    "        pd_list = pf[\"tuple\"].values.tolist()\n",
    "        pred_list += pd_list    \n",
    "    if flag_ == 0:\n",
    "        j = j + count\n",
    "    recall,true_positive,false_negative = compare_and_score(gt_list,pred_list)\n",
    "    #print(gt_list)\n",
    "    #print(pred_list)\n",
    "    #print(recall)\n",
    "    recalls.append(recall)\n",
    "    ptrue_positive += true_positive\n",
    "    pfalse_negative += false_negative\n",
    "avg_recall = np.mean(recalls)\n",
    "print(avg_recall)\n",
    "print(ptrue_positive/(ptrue_positive+pfalse_negative))"
   ]
  },
  {
   "cell_type": "code",
   "execution_count": null,
   "id": "010e31b6",
   "metadata": {},
   "outputs": [],
   "source": []
  },
  {
   "cell_type": "code",
   "execution_count": null,
   "id": "2a677c43",
   "metadata": {},
   "outputs": [],
   "source": []
  }
 ],
 "metadata": {
  "kernelspec": {
   "display_name": "Python 3 (ipykernel)",
   "language": "python",
   "name": "python3"
  },
  "language_info": {
   "codemirror_mode": {
    "name": "ipython",
    "version": 3
   },
   "file_extension": ".py",
   "mimetype": "text/x-python",
   "name": "python",
   "nbconvert_exporter": "python",
   "pygments_lexer": "ipython3",
   "version": "3.9.7"
  }
 },
 "nbformat": 4,
 "nbformat_minor": 5
}
